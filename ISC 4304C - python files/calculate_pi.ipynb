{
 "cells": [
  {
   "cell_type": "code",
   "execution_count": 9,
   "id": "ae9aecad",
   "metadata": {},
   "outputs": [],
   "source": [
    "# Writting pi estimation code using mcmc\n",
    "import random\n",
    "import math"
   ]
  },
  {
   "cell_type": "code",
   "execution_count": 23,
   "id": "d872cd00",
   "metadata": {},
   "outputs": [
    {
     "name": "stdout",
     "output_type": "stream",
     "text": [
      "3.120879120879121\n"
     ]
    }
   ],
   "source": [
    "circle_area = 0\n",
    "square_area = 0\n",
    "r = 1.0\n",
    "\n",
    "# loop over n step\n",
    "for i in range(1001):\n",
    "    # draw coordinates (x,y) as random numbers\n",
    "    x = random.uniform(0,1)\n",
    "    y = random.uniform(0,1)\n",
    "    # evaluate the distance from center to coordinate\n",
    "    d = math.sqrt(x*x + y*y)\n",
    "    \n",
    "    #add 1 tp square\n",
    "    square_area += 1\n",
    "    \n",
    "    # if distance < radius\n",
    "    if d<r:\n",
    "        # add 1 to circle\n",
    "        circle_area += 1\n",
    "\n",
    "# calcute pi using ratio of: circle/square\n",
    "print((circle_area/square_area)*4)\n"
   ]
  },
  {
   "cell_type": "code",
   "execution_count": null,
   "id": "8f7cfcad",
   "metadata": {},
   "outputs": [],
   "source": []
  }
 ],
 "metadata": {
  "kernelspec": {
   "display_name": "Python 3 (ipykernel)",
   "language": "python",
   "name": "python3"
  },
  "language_info": {
   "codemirror_mode": {
    "name": "ipython",
    "version": 3
   },
   "file_extension": ".py",
   "mimetype": "text/x-python",
   "name": "python",
   "nbconvert_exporter": "python",
   "pygments_lexer": "ipython3",
   "version": "3.9.13"
  }
 },
 "nbformat": 4,
 "nbformat_minor": 5
}
